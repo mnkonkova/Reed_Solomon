{
 "cells": [
  {
   "cell_type": "code",
   "execution_count": 3,
   "metadata": {
    "collapsed": true
   },
   "outputs": [],
   "source": [
    "import numpy as np"
   ]
  },
  {
   "cell_type": "markdown",
   "metadata": {},
   "source": [
    "## Класс для работы с числами в GF(16)"
   ]
  },
  {
   "cell_type": "code",
   "execution_count": 4,
   "metadata": {
    "collapsed": true
   },
   "outputs": [],
   "source": [
    "\"\"\"\n",
    "Следующие функции переписывают таблицу мультипликативной группы поля из 16 элементов\n",
    "https://ru.wikipedia.org/wiki/%D0%9A%D0%BE%D0%BD%D0%B5%D1%87%D0%BD%D0%BE%D0%B5_%D0%BF%D0%BE%D0%BB%D0%B5\n",
    "\"\"\"\n",
    "def get_step(num):\n",
    "    g_s = np.asarray([-1000, 0, 1, 4, 2, 8, 5, 10, 3, 14, 9, 7, 6, 13, 11, 12, 1])\n",
    "    return g_s[num]\n",
    "def get_num(step):\n",
    "    if (step == -1000):\n",
    "        return 0\n",
    "    g_n = np.asarray([1, 2, 4, 8, 3, 6, 12, 11, 5, 10, 7, 14, 15, 13, 9, 1])\n",
    "    return g_n[step]"
   ]
  },
  {
   "cell_type": "code",
   "execution_count": 5,
   "metadata": {
    "collapsed": true
   },
   "outputs": [],
   "source": [
    "class GF(object):\n",
    "    \"\"\"\n",
    "    Класс, дающий возможность вычисления в поле GF(2^4)\n",
    "    Здесь переопределны операции сложения, вычитания, умножения, деления\n",
    "    \"\"\"\n",
    "    def __init__(self, msg):\n",
    "        self.polyn = np.zeros((4), dtype = np.int32)\n",
    "        self.step = -1000\n",
    "        if msg != 0:\n",
    "            self.step = get_step(msg)\n",
    "        \n",
    "        for i in range(4):\n",
    "            self.polyn[i] = msg % 2 \n",
    "            #a^0 = 0,0,0,1\n",
    "            msg = msg // 2\n",
    "    def __add__(self, other):\n",
    "        new_polyn = (self.polyn + other.polyn) % 2\n",
    "        new_num = new_polyn[0] + 2 * new_polyn[1] + 4 * new_polyn[2] + 8 * new_polyn[3]\n",
    "        return GF(new_num)\n",
    "    \n",
    "    def __sub__(self, other):\n",
    "        return ((self + other))\n",
    "    \n",
    "    def __mul__(self, other):\n",
    "        if (self.step == -1000 or other.step == -1000):\n",
    "            return GF(0)\n",
    "        new_step = (self.step + other.step) % 15\n",
    "        return GF(get_num(new_step))\n",
    "    def __truediv__(self, other):\n",
    "        if (self.step == -1000 or other.step == -1000):\n",
    "            return GF(0)\n",
    "        new_step = (self.step - other.step + 15) % 15\n",
    "        return GF(get_num(new_step))\n",
    "        "
   ]
  },
  {
   "cell_type": "code",
   "execution_count": 6,
   "metadata": {},
   "outputs": [
    {
     "data": {
      "text/plain": [
       "7"
      ]
     },
     "execution_count": 6,
     "metadata": {},
     "output_type": "execute_result"
    }
   ],
   "source": [
    "get_num((GF(13)*GF(15)).step)"
   ]
  },
  {
   "cell_type": "markdown",
   "metadata": {},
   "source": [
    "# Кодирование"
   ]
  },
  {
   "cell_type": "markdown",
   "metadata": {},
   "source": [
    "#### Функция деления полиномов в поле GF(16)"
   ]
  },
  {
   "cell_type": "code",
   "execution_count": 7,
   "metadata": {
    "collapsed": true
   },
   "outputs": [],
   "source": [
    "#5*x**3 + 4*x**2 + 1 -> [1, 0, 4, 5]\n",
    "def normalize(poly):\n",
    "    while poly and poly[-1].step == -1000:\n",
    "        poly.pop()\n",
    "    if poly == []:\n",
    "        poly.append(GF(0))\n",
    "\n",
    "def poly_divmod(p, q):\n",
    "    p, q = p[:], q[:]\n",
    "    normalize(p)\n",
    "    normalize(q)\n",
    "    if len(p) < len(q):\n",
    "        return p\n",
    "    sh = len(p) - len(q)\n",
    "    q = [GF(0)] * sh + q\n",
    "    div = q[-1]\n",
    "    for i in range(sh + 1):\n",
    "        mult = p[-1] / div\n",
    "        if mult != 0:\n",
    "            d = [mult * u for u in q]\n",
    "            p = [u - v for u, v in zip(p, d)]\n",
    "\n",
    "        p.pop()\n",
    "        q.pop(0)\n",
    "    normalize(p)\n",
    "    return p\n",
    "\n"
   ]
  },
  {
   "cell_type": "markdown",
   "metadata": {},
   "source": [
    "#### Функция умножения в поле GF(16)"
   ]
  },
  {
   "cell_type": "code",
   "execution_count": 8,
   "metadata": {
    "collapsed": true
   },
   "outputs": [],
   "source": [
    "def mul(p, q, d):\n",
    "    \"\"\"\n",
    "    Умножение полиномов в поле GF(16)\n",
    "    \"\"\"\n",
    "    res = [GF(0)] * (d)\n",
    "    normalize(p)\n",
    "    normalize(q)\n",
    "    for i in range(len(p)):\n",
    "        for j in range(len(q)):\n",
    "            if (i + j < d):\n",
    "                res[i + j] += p[i] * q[j]\n",
    "    return res"
   ]
  },
  {
   "cell_type": "markdown",
   "metadata": {},
   "source": [
    "#### Функция для декодирования из объекта класса в число\n"
   ]
  },
  {
   "cell_type": "code",
   "execution_count": 9,
   "metadata": {
    "collapsed": true
   },
   "outputs": [],
   "source": [
    "def dec(a):\n",
    "    \"\"\"\n",
    "    Функция для декодирования из объекта класса в число\n",
    "    \"\"\"\n",
    "    return get_num(a.step)"
   ]
  },
  {
   "cell_type": "markdown",
   "metadata": {},
   "source": [
    "#### Функция для конструирования g(x)"
   ]
  },
  {
   "cell_type": "code",
   "execution_count": 10,
   "metadata": {
    "collapsed": true
   },
   "outputs": [],
   "source": [
    "def get_G(d):\n",
    "    \"\"\"\n",
    "    Функция для конструирования по данным n и k g(x)=(x+a)(x+a^2)...(x+a^d-1)\n",
    "    \"\"\"\n",
    "    g = [GF(0)] * (d)\n",
    "    g[0] = GF(2)\n",
    "    g[1] = GF(1)\n",
    "    x = GF(2)\n",
    "    for i in range(d - 1 - 1):\n",
    "        cur = [GF(0)] * (d)\n",
    "        x = x * GF(2)\n",
    "        cur[0] = x\n",
    "        cur[1] = GF(1)\n",
    "        g = mul(g, cur, d)\n",
    "    return g"
   ]
  },
  {
   "cell_type": "markdown",
   "metadata": {},
   "source": [
    "### Непосредственно функция кодирования "
   ]
  },
  {
   "cell_type": "code",
   "execution_count": 11,
   "metadata": {
    "collapsed": true
   },
   "outputs": [],
   "source": [
    "def count_Reed_Solomon(msg, n, k):\n",
    "    p = [0] * (n - k) + msg \n",
    "    d = n - k + 1\n",
    "    \n",
    "    g = get_G(d)\n",
    "    q = poly_divmod(list(map(GF, p)), g)\n",
    "    \n",
    "    q.reverse()\n",
    "    msg.reverse()\n",
    "    p = msg + [0] * (n - k)\n",
    "    q = [0] * (k) + list(map(dec, q))\n",
    "    C = np.asarray(p) + np.asarray(q)\n",
    "    return C [::-1]"
   ]
  },
  {
   "cell_type": "markdown",
   "metadata": {},
   "source": [
    "### Пример исользования\n",
    "#### count_Reed_Solomon([message], N, K)\n",
    "Полезное сообщение 7, 5, 10, 0, 9, 1, 1, 1, 9\n",
    "\n",
    "Избыточная информация 3, 15, 15, 14, 6, 13 "
   ]
  },
  {
   "cell_type": "code",
   "execution_count": 12,
   "metadata": {},
   "outputs": [
    {
     "data": {
      "text/plain": [
       "array([ 3, 15, 15, 14,  6, 13,  7,  5, 10,  0,  9,  1,  1,  1,  9])"
      ]
     },
     "execution_count": 12,
     "metadata": {},
     "output_type": "execute_result"
    }
   ],
   "source": [
    "count_Reed_Solomon([7,5,10,0,9,1,1,1,9], 15,9)"
   ]
  },
  {
   "cell_type": "markdown",
   "metadata": {},
   "source": [
    "# Декодирование"
   ]
  },
  {
   "cell_type": "markdown",
   "metadata": {},
   "source": [
    "#### Функция для подстановки в многочлен polynom значение a (все в поле GF(16))"
   ]
  },
  {
   "cell_type": "code",
   "execution_count": 13,
   "metadata": {
    "collapsed": true
   },
   "outputs": [],
   "source": [
    "def count_polx (polynom, a):\n",
    "    \"\"\"\n",
    "    Функция для подстановки в многочлен polynom значение a\n",
    "    \"\"\"\n",
    "    x = GF(1)\n",
    "    result = GF(0)\n",
    "    for i in range(len(polynom)):\n",
    "            result += x * polynom[i]\n",
    "            x *= a\n",
    "    return result"
   ]
  },
  {
   "cell_type": "markdown",
   "metadata": {},
   "source": [
    "#### Функции для работы с матрицами в поле GF(16)"
   ]
  },
  {
   "cell_type": "code",
   "execution_count": 14,
   "metadata": {
    "collapsed": true
   },
   "outputs": [],
   "source": [
    "def mul_matrix_GF(A, B, t):\n",
    "    \"\"\"\n",
    "    Умножение квадратной матрицы на столбец\n",
    "    \"\"\"\n",
    "    M = [GF(0)] *(t)\n",
    "    for i in range(t):\n",
    "        for k in range(t):\n",
    "            M[i] += GF(A[i][k]) * GF(B[k])\n",
    "    M1 = [0] * (t)\n",
    "    for i in range(len(M)):\n",
    "        M1[i] = get_num((M[i]).step)\n",
    "    return M1\n",
    "def get_M(s, t):\n",
    "    \"\"\"\n",
    "    Получение матрицы, необходимой для декодирования\n",
    "    \"\"\"\n",
    "    M = [[0 for x in range(t)] for y in range(t)]\n",
    "    V = [0] * t\n",
    "    for i in range(t):\n",
    "        for j in range(t):\n",
    "            M[i][j] = s[t  - 1 + i - j]\n",
    "        V[i] = s[t + i]\n",
    "    return M, V\n",
    "def get_minor(M,i,j):\n",
    "    \"\"\"\n",
    "    Получение минора матрицы без i строчки, j столбца\n",
    "    \"\"\"\n",
    "    return [row[ : j] + row[j + 1 : ] for row in (M[ : i] + M[i + 1 : ])]\n",
    "def get_det_Gf(M):\n",
    "    \"\"\"\n",
    "    Получение дискреминанта в поле GF(16)\n",
    "    \"\"\"\n",
    "    if len(M) == 2:\n",
    "        return GF(M[0][0]) * GF(M[1][1]) + GF(M[0][1]) * GF(M[1][0])\n",
    "    det = GF(0)\n",
    "    for c in range(len(M)):\n",
    "        det += GF(M[0][c]) * get_det_Gf(get_minor(M, 0, c))\n",
    "    return det"
   ]
  },
  {
   "cell_type": "code",
   "execution_count": 15,
   "metadata": {
    "collapsed": true
   },
   "outputs": [],
   "source": [
    "def M_T(M):\n",
    "    \"\"\"\n",
    "    Получение транспонированной матрицы\n",
    "    \"\"\"\n",
    "    for i in range(len(M)):\n",
    "        for j in range(i, len(M[0])):\n",
    "            M[i][j], M[j][i] = M[j][i], M[i][j]\n",
    "    return M\n",
    "def get_M1(M):\n",
    "    \"\"\"\n",
    "    Получение обратной матрицы\n",
    "    \"\"\"\n",
    "    det = get_det_Gf(M)\n",
    "    if det.step == -1:\n",
    "        return []\n",
    "    if len(M) == 2:\n",
    "        return [[get_num((GF(M[1][1]) / det).step), get_num((GF(M[0][1]) / det).step)],\n",
    "                [get_num((GF(M[1][0]) / det).step), get_num((GF(M[0][0]) / det).step)]]\n",
    "    C = []\n",
    "    for r in range(len(M)):\n",
    "        rows = []\n",
    "        for c in range(len(M)):\n",
    "            m = get_minor(M,r,c)\n",
    "            rows.append(get_num((get_det_Gf(m) / det).step))\n",
    "        C.append(rows)\n",
    "    C = M_T(C)\n",
    "    return C"
   ]
  },
  {
   "cell_type": "code",
   "execution_count": 96,
   "metadata": {},
   "outputs": [],
   "source": [
    "def decode_Reed_Solomon(msg, n, k):\n",
    "    d = n - k + 1\n",
    "    g = get_G(d)\n",
    "    #1 вычислить msg(x) mod g(x)\n",
    "    m = list(map(GF, msg))\n",
    "    q = poly_divmod(m, g)\n",
    "    normalize(q)\n",
    "    if list(map(dec,q)) == [0]:\n",
    "        #2 если остаток 0, то просто декодировать\n",
    "        return msg[(n - k) : (n)]\n",
    "       \n",
    "    #3 найти полином S: si = q(a^(i+1)), где q = msg(x) mod g(x)\n",
    "    x = GF(2)\n",
    "    s = []\n",
    "    for i in range(n - k):\n",
    "        s = s + [count_polx(q, x)]\n",
    "        x = x * (GF(2))\n",
    "#     print(list(map(dec,s)))\n",
    "    \n",
    "    #4 построить матрицу M\n",
    "    t = (n - k) // 2\n",
    "    while t > 0:\n",
    "        M, V = get_M(list(map(dec,s)), t)\n",
    "        det = get_num(get_det_Gf(M).step)\n",
    "        if det != 0:\n",
    "            break\n",
    "        t -= 1\n",
    "    M1 = get_M1(M)\n",
    "    #с помощью M вычилить многочлен L\n",
    "    L = mul_matrix_GF(M1, V, t)\n",
    "    L = [1] + L\n",
    "#     print(L)\n",
    "    #5 вычислить производную L \n",
    "    L1 = [0] * len(L)\n",
    "    for i in range(len(L) - 1):\n",
    "        if i % 2 == 0:\n",
    "            L1[i] = L[i + 1]\n",
    "    #6\n",
    "    W = mul(list(map(GF,L)), s, n - k)\n",
    "#     print(L1, L, list(map(dec,s)), list(map(dec,W)))\n",
    "    \n",
    "    #7 подобрать корни L\n",
    "    x = GF(1)\n",
    "    Need_to_add = [0] * n\n",
    "    for i in range(16):\n",
    "        res = count_polx(list(map(GF,L)), x)\n",
    "        if (res.step == -1000):\n",
    "            x1 = GF(1) / x\n",
    "            y = count_polx(W, x) / count_polx(list(map(GF,L1)), x)\n",
    "            print(get_num(y.step), x1.step)\n",
    "            Need_to_add[x1.step] = get_num(y.step)\n",
    "        x *= GF(2)\n",
    "    msg = np.asarray(msg)\n",
    "    Need_to_add = np.asarray(Need_to_add)\n",
    "    for i in range(len(msg)):\n",
    "        msg[i] = get_num((GF(msg[i]) + GF(Need_to_add[i])).step)\n",
    "    return msg[n-k:]\n",
    "    "
   ]
  },
  {
   "cell_type": "code",
   "execution_count": 97,
   "metadata": {},
   "outputs": [
    {
     "data": {
      "text/plain": [
       "[7, 5, 10, 0, 9, 1, 1, 1, 9]"
      ]
     },
     "execution_count": 97,
     "metadata": {},
     "output_type": "execute_result"
    }
   ],
   "source": [
    "decode_Reed_Solomon([ 3, 15, 15, 14, 6, 13, 7, 5, 10, 0, 9, 1, 1, 1, 9], 15,9)"
   ]
  },
  {
   "cell_type": "code",
   "execution_count": 102,
   "metadata": {},
   "outputs": [
    {
     "name": "stdout",
     "output_type": "stream",
     "text": [
      "1 12\n",
      "15 1\n"
     ]
    },
    {
     "data": {
      "text/plain": [
       "array([ 7,  5, 10,  0,  9,  1,  1,  1,  9])"
      ]
     },
     "execution_count": 102,
     "metadata": {},
     "output_type": "execute_result"
    }
   ],
   "source": [
    "decode_Reed_Solomon([ 3, 0, 15, 14, 6, 13, 7, 5, 10, 0, 9, 1, 0, 1, 9], 15,9)"
   ]
  },
  {
   "cell_type": "code",
   "execution_count": 143,
   "metadata": {},
   "outputs": [],
   "source": [
    "def deleted_Reed_Solomon(msg, n, k, st):\n",
    "    d = n - k + 1\n",
    "    g = get_G(d)\n",
    "    #1 вычислить msg(x) mod g(x)\n",
    "    m = list(map(GF, msg))\n",
    "    q = poly_divmod(m, g)\n",
    "    normalize(q)\n",
    "    3,\n",
    "       \n",
    "    #3 найти полином S: si = q(a^(i+1)), где q = msg(x) mod g(x)\n",
    "    x = GF(2)\n",
    "    s = []\n",
    "    for i in range(n - k):\n",
    "        s = s + [count_polx(q, x)]\n",
    "        x = x * (GF(2))\n",
    "#     print(list(map(dec,s)))\n",
    "    \n",
    "    L = [GF(0)] * d\n",
    "    L[0] = GF(1) / GF(get_num(st[0]))\n",
    "    L[1] = GF(1)\n",
    "    for i in range(1, len(st)):\n",
    "        cur = [GF(0)] * (d)\n",
    "        cur[0] = GF(1) / GF(get_num(st[i]))\n",
    "        cur[1] = GF(1)\n",
    "        L = mul(L, cur, d)\n",
    "    L = list(map(dec,L))\n",
    "#     print(L)\n",
    "    L1 = [0] * len(L)\n",
    "    for i in range(len(L) - 1):\n",
    "        if i % 2 == 0:\n",
    "            L1[i] = L[i + 1]\n",
    "    #6\n",
    "    W = mul(list(map(GF,L)), s, n - k)\n",
    "\n",
    "    #7 подобрать корни L\n",
    "    Need_to_add = [0] * n\n",
    "    for i in range(len(st)):\n",
    "        #print((count_polx(list(map(GF,L)), GF(1) / GF(st[i]))).step)\n",
    "        x = GF(1) / GF(get_num(st[i]))\n",
    "        x1 = GF(get_num(st[i]))\n",
    "        \n",
    "        y = count_polx(W, x) / count_polx(list(map(GF,L1)), x)\n",
    "#         print(get_num(y.step), x1.step)      \n",
    "        Need_to_add[x1.step] = get_num(y.step)\n",
    "        \n",
    "    msg = np.asarray(msg)\n",
    "    Need_to_add = np.asarray(Need_to_add)\n",
    "    for i in range(len(msg)):\n",
    "        msg[i] = get_num((GF(msg[i]) + GF(Need_to_add[i])).step)\n",
    "    return msg[n-k:]"
   ]
  },
  {
   "cell_type": "code",
   "execution_count": 144,
   "metadata": {},
   "outputs": [
    {
     "data": {
      "text/plain": [
       "array([ 7,  5, 10,  0,  9,  1,  1,  1,  9])"
      ]
     },
     "execution_count": 144,
     "metadata": {},
     "output_type": "execute_result"
    }
   ],
   "source": [
    "deleted_Reed_Solomon([ 3, 15, 0, 14, 0, 13, 7, 5, 10, 0, 9, 1, 0, 1, 9], 15,9, [2,4,12])"
   ]
  },
  {
   "cell_type": "code",
   "execution_count": null,
   "metadata": {
    "collapsed": true
   },
   "outputs": [],
   "source": []
  }
 ],
 "metadata": {
  "kernelspec": {
   "display_name": "Python 3",
   "language": "python",
   "name": "python3"
  },
  "language_info": {
   "codemirror_mode": {
    "name": "ipython",
    "version": 3
   },
   "file_extension": ".py",
   "mimetype": "text/x-python",
   "name": "python",
   "nbconvert_exporter": "python",
   "pygments_lexer": "ipython3",
   "version": "3.6.1"
  }
 },
 "nbformat": 4,
 "nbformat_minor": 2
}
